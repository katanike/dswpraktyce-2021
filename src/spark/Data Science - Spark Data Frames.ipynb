{
 "cells": [
  {
   "cell_type": "code",
   "execution_count": 4,
   "metadata": {},
   "outputs": [],
   "source": [
    "import findspark\n",
    "findspark.init()"
   ]
  },
  {
   "cell_type": "code",
   "execution_count": 5,
   "metadata": {},
   "outputs": [
    {
     "data": {
      "text/html": [
       "\n",
       "            <div>\n",
       "                <p><b>SparkSession - in-memory</b></p>\n",
       "                \n",
       "        <div>\n",
       "            <p><b>SparkContext</b></p>\n",
       "\n",
       "            <p><a href=\"http://DESKTOP-0HM28J7:4040\">Spark UI</a></p>\n",
       "\n",
       "            <dl>\n",
       "              <dt>Version</dt>\n",
       "                <dd><code>v3.1.1</code></dd>\n",
       "              <dt>Master</dt>\n",
       "                <dd><code>local[*]</code></dd>\n",
       "              <dt>AppName</dt>\n",
       "                <dd><code>DS</code></dd>\n",
       "            </dl>\n",
       "        </div>\n",
       "        \n",
       "            </div>\n",
       "        "
      ],
      "text/plain": [
       "<pyspark.sql.session.SparkSession at 0x21d525f5610>"
      ]
     },
     "execution_count": 5,
     "metadata": {},
     "output_type": "execute_result"
    }
   ],
   "source": [
    "from pyspark.sql import SparkSession\n",
    "spark = SparkSession.builder.appName(\"DS\").getOrCreate()\n",
    "spark"
   ]
  },
  {
   "cell_type": "code",
   "execution_count": 6,
   "metadata": {},
   "outputs": [
    {
     "name": "stdout",
     "output_type": "stream",
     "text": [
      "+-----+------+---+---+\n",
      "|color| fruit| v1| v2|\n",
      "+-----+------+---+---+\n",
      "|  red|banana|  1| 10|\n",
      "| blue|banana|  2| 20|\n",
      "|  red|carrot|  3| 30|\n",
      "| blue| grape|  4| 40|\n",
      "|  red|carrot|  5| 50|\n",
      "|black|carrot|  6| 60|\n",
      "|  red|banana|  7| 70|\n",
      "|  red| grape|  8| 80|\n",
      "+-----+------+---+---+\n",
      "\n"
     ]
    }
   ],
   "source": [
    "df = spark.createDataFrame([\n",
    "    ['red', 'banana', 1, 10], ['blue', 'banana', 2, 20], ['red', 'carrot', 3, 30],\n",
    "    ['blue', 'grape', 4, 40], ['red', 'carrot', 5, 50], ['black', 'carrot', 6, 60],\n",
    "    ['red', 'banana', 7, 70], ['red', 'grape', 8, 80]], schema=['color', 'fruit', 'v1', 'v2'])\n",
    "df.show()"
   ]
  },
  {
   "cell_type": "code",
   "execution_count": 8,
   "metadata": {},
   "outputs": [
    {
     "name": "stdout",
     "output_type": "stream",
     "text": [
      "+-----+-----+\n",
      "|color|count|\n",
      "+-----+-----+\n",
      "|  red|    5|\n",
      "|black|    1|\n",
      "| blue|    2|\n",
      "+-----+-----+\n",
      "\n"
     ]
    }
   ],
   "source": [
    "df.groupBy(\"color\").count().show()"
   ]
  },
  {
   "cell_type": "code",
   "execution_count": 9,
   "metadata": {},
   "outputs": [
    {
     "name": "stdout",
     "output_type": "stream",
     "text": [
      "+-----+-------+-------+\n",
      "|color|avg(v1)|avg(v2)|\n",
      "+-----+-------+-------+\n",
      "|  red|    4.8|   48.0|\n",
      "|black|    6.0|   60.0|\n",
      "| blue|    3.0|   30.0|\n",
      "+-----+-------+-------+\n",
      "\n"
     ]
    }
   ],
   "source": [
    "df.groupBy(\"color\").avg().show()"
   ]
  },
  {
   "cell_type": "code",
   "execution_count": 11,
   "metadata": {},
   "outputs": [
    {
     "data": {
      "text/plain": [
       "DataFrame[color: string, avg(v1): double, avg(v2): double]"
      ]
     },
     "execution_count": 11,
     "metadata": {},
     "output_type": "execute_result"
    }
   ],
   "source": [
    "avg = df.groupBy(\"color\").avg()\n",
    "avg.cache()"
   ]
  },
  {
   "cell_type": "code",
   "execution_count": 12,
   "metadata": {},
   "outputs": [],
   "source": [
    "avg1 = avg.select(avg.color, avg[\"avg(v1)\"].alias(\"avg_v1\"))"
   ]
  },
  {
   "cell_type": "code",
   "execution_count": 13,
   "metadata": {},
   "outputs": [
    {
     "name": "stdout",
     "output_type": "stream",
     "text": [
      "+-----+------+\n",
      "|color|avg_v1|\n",
      "+-----+------+\n",
      "|  red|   4.8|\n",
      "|black|   6.0|\n",
      "| blue|   3.0|\n",
      "+-----+------+\n",
      "\n"
     ]
    }
   ],
   "source": [
    "avg1.show()"
   ]
  },
  {
   "cell_type": "code",
   "execution_count": 14,
   "metadata": {},
   "outputs": [],
   "source": [
    "import pyspark.sql.functions as F"
   ]
  },
  {
   "cell_type": "code",
   "execution_count": 15,
   "metadata": {},
   "outputs": [],
   "source": [
    "avg2 = avg.select(F.monotonically_increasing_id().alias(\"id\"), avg.color, avg[\"avg(v2)\"].alias(\"avg_v2\"))"
   ]
  },
  {
   "cell_type": "code",
   "execution_count": 16,
   "metadata": {},
   "outputs": [
    {
     "data": {
      "text/html": [
       "<div>\n",
       "<style scoped>\n",
       "    .dataframe tbody tr th:only-of-type {\n",
       "        vertical-align: middle;\n",
       "    }\n",
       "\n",
       "    .dataframe tbody tr th {\n",
       "        vertical-align: top;\n",
       "    }\n",
       "\n",
       "    .dataframe thead th {\n",
       "        text-align: right;\n",
       "    }\n",
       "</style>\n",
       "<table border=\"1\" class=\"dataframe\">\n",
       "  <thead>\n",
       "    <tr style=\"text-align: right;\">\n",
       "      <th></th>\n",
       "      <th>id</th>\n",
       "      <th>color</th>\n",
       "      <th>avg_v2</th>\n",
       "    </tr>\n",
       "  </thead>\n",
       "  <tbody>\n",
       "    <tr>\n",
       "      <th>0</th>\n",
       "      <td>781684047872</td>\n",
       "      <td>red</td>\n",
       "      <td>48.0</td>\n",
       "    </tr>\n",
       "    <tr>\n",
       "      <th>1</th>\n",
       "      <td>1279900254208</td>\n",
       "      <td>black</td>\n",
       "      <td>60.0</td>\n",
       "    </tr>\n",
       "    <tr>\n",
       "      <th>2</th>\n",
       "      <td>1443109011456</td>\n",
       "      <td>blue</td>\n",
       "      <td>30.0</td>\n",
       "    </tr>\n",
       "  </tbody>\n",
       "</table>\n",
       "</div>"
      ],
      "text/plain": [
       "              id  color  avg_v2\n",
       "0   781684047872    red    48.0\n",
       "1  1279900254208  black    60.0\n",
       "2  1443109011456   blue    30.0"
      ]
     },
     "execution_count": 16,
     "metadata": {},
     "output_type": "execute_result"
    }
   ],
   "source": [
    "avg2.toPandas()"
   ]
  },
  {
   "cell_type": "code",
   "execution_count": 18,
   "metadata": {},
   "outputs": [
    {
     "name": "stdout",
     "output_type": "stream",
     "text": [
      "Collecting pyarrow\n",
      "  Downloading pyarrow-3.0.0-cp38-cp38-win_amd64.whl (12.7 MB)\n",
      "Requirement already satisfied: numpy>=1.16.6 in c:\\users\\pawel\\anaconda3\\lib\\site-packages (from pyarrow) (1.19.2)\n",
      "Installing collected packages: pyarrow\n",
      "Successfully installed pyarrow-3.0.0\n"
     ]
    }
   ],
   "source": [
    "!pip install pyarrow"
   ]
  },
  {
   "cell_type": "code",
   "execution_count": 19,
   "metadata": {},
   "outputs": [
    {
     "name": "stdout",
     "output_type": "stream",
     "text": [
      "+-----+------+---+---+\n",
      "|color| fruit| v1| v2|\n",
      "+-----+------+---+---+\n",
      "|  red|banana| -3| 10|\n",
      "|  red|carrot| -1| 30|\n",
      "|  red|carrot|  0| 50|\n",
      "|  red|banana|  2| 70|\n",
      "|  red| grape|  3| 80|\n",
      "|black|carrot|  0| 60|\n",
      "| blue|banana| -1| 20|\n",
      "| blue| grape|  1| 40|\n",
      "+-----+------+---+---+\n",
      "\n"
     ]
    }
   ],
   "source": [
    "def plus_mean(pandas_df):\n",
    "    return pandas_df.assign(v1=pandas_df.v1 - pandas_df.v1.mean())\n",
    "\n",
    "df.groupby('color').applyInPandas(plus_mean, schema=df.schema).show()"
   ]
  },
  {
   "cell_type": "code",
   "execution_count": 20,
   "metadata": {},
   "outputs": [],
   "source": [
    "dfp = df.groupby('color').applyInPandas(plus_mean, schema=df.schema)"
   ]
  },
  {
   "cell_type": "code",
   "execution_count": 25,
   "metadata": {},
   "outputs": [
    {
     "name": "stdout",
     "output_type": "stream",
     "text": [
      "+-------+-----+------+------------------+-----------------+\n",
      "|summary|color| fruit|                v1|               v2|\n",
      "+-------+-----+------+------------------+-----------------+\n",
      "|  count|    8|     8|                 8|                8|\n",
      "|   mean| null|  null|             0.125|             45.0|\n",
      "| stddev| null|  null|1.8850918886280925|24.49489742783178|\n",
      "|    min|black|banana|                -3|               10|\n",
      "|    max|  red| grape|                 3|               80|\n",
      "+-------+-----+------+------------------+-----------------+\n",
      "\n"
     ]
    }
   ],
   "source": [
    "dfp.describe().show()"
   ]
  },
  {
   "cell_type": "code",
   "execution_count": 30,
   "metadata": {},
   "outputs": [
    {
     "name": "stdout",
     "output_type": "stream",
     "text": [
      "== Physical Plan ==\n",
      "FlatMapGroupsInPandas [color#0], plus_mean(color#0, fruit#1, v1#2L, v2#3L), [color#311, fruit#312, v1#313L, v2#314L]\n",
      "+- *(2) Sort [color#0 ASC NULLS FIRST], false, 0\n",
      "   +- Exchange hashpartitioning(color#0, 200), ENSURE_REQUIREMENTS, [id=#424]\n",
      "      +- *(1) Project [color#0, color#0, fruit#1, v1#2L, v2#3L]\n",
      "         +- *(1) Scan ExistingRDD[color#0,fruit#1,v1#2L,v2#3L]\n",
      "\n",
      "\n"
     ]
    }
   ],
   "source": [
    "dfp.explain()"
   ]
  },
  {
   "cell_type": "code",
   "execution_count": 33,
   "metadata": {},
   "outputs": [
    {
     "name": "stdout",
     "output_type": "stream",
     "text": [
      " Volume in drive D is Universum\n",
      " Volume Serial Number is 5FC7-5225\n",
      "\n",
      " Directory of d:\\uwm\n",
      "\n",
      "20.03.2021  03:43    <DIR>          .\n",
      "20.03.2021  03:43    <DIR>          ..\n",
      "21.03.2021  11:24    <DIR>          customers\n",
      "21.03.2021  11:24    <DIR>          departments\n",
      "21.03.2021  11:24    <DIR>          order_items\n",
      "21.03.2021  11:24    <DIR>          orders\n",
      "21.03.2021  11:24    <DIR>          products\n",
      "21.03.2021  11:26    <DIR>          categories\n",
      "27.03.2021  05:11        39˙593˙868 access.log.2\n",
      "27.03.2021  06:21    <DIR>          cloudera-quickstart\n",
      "27.03.2021  06:22    <DIR>          examples\n",
      "27.03.2021  06:29    <DIR>          gen_logs\n",
      "               1 File(s)     39˙593˙868 bytes\n",
      "              11 Dir(s)  1˙414˙731˙530˙240 bytes free\n"
     ]
    }
   ],
   "source": [
    "!dir d:\\uwm\\"
   ]
  },
  {
   "cell_type": "code",
   "execution_count": 39,
   "metadata": {},
   "outputs": [],
   "source": [
    "categories = spark.read.parquet(\"d:/uwm/categories\")\n",
    "departments = spark.read.parquet(\"d:/uwm/departments\")\n",
    "order_items = spark.read.parquet(\"d:/uwm/order_items\")\n",
    "orders = spark.read.parquet(\"d:/uwm/orders\")\n",
    "products = spark.read.parquet(\"d:/uwm/products\")"
   ]
  },
  {
   "cell_type": "code",
   "execution_count": 36,
   "metadata": {},
   "outputs": [
    {
     "name": "stdout",
     "output_type": "stream",
     "text": [
      "+-----------+----------------------+-------------------+\n",
      "|category_id|category_department_id|      category_name|\n",
      "+-----------+----------------------+-------------------+\n",
      "|          1|                     2|           Football|\n",
      "|          2|                     2|             Soccer|\n",
      "|          3|                     2|Baseball & Softball|\n",
      "|          4|                     2|         Basketball|\n",
      "|          5|                     2|           Lacrosse|\n",
      "|          6|                     2|   Tennis & Racquet|\n",
      "|          7|                     2|             Hockey|\n",
      "|          8|                     2|        More Sports|\n",
      "|          9|                     3|   Cardio Equipment|\n",
      "|         10|                     3|  Strength Training|\n",
      "|         11|                     3|Fitness Accessories|\n",
      "|         12|                     3|       Boxing & MMA|\n",
      "|         13|                     3|        Electronics|\n",
      "|         14|                     3|     Yoga & Pilates|\n",
      "|         15|                     3|  Training by Sport|\n",
      "|         16|                     3|    As Seen on  TV!|\n",
      "|         17|                     4|             Cleats|\n",
      "|         18|                     4|     Men's Footwear|\n",
      "|         19|                     4|   Women's Footwear|\n",
      "|         20|                     4|     Kids' Footwear|\n",
      "+-----------+----------------------+-------------------+\n",
      "only showing top 20 rows\n",
      "\n"
     ]
    }
   ],
   "source": [
    "categories.show()"
   ]
  },
  {
   "cell_type": "code",
   "execution_count": 37,
   "metadata": {},
   "outputs": [
    {
     "name": "stdout",
     "output_type": "stream",
     "text": [
      "root\n",
      " |-- category_id: integer (nullable = true)\n",
      " |-- category_department_id: integer (nullable = true)\n",
      " |-- category_name: string (nullable = true)\n",
      "\n"
     ]
    }
   ],
   "source": [
    "categories.printSchema()"
   ]
  },
  {
   "cell_type": "code",
   "execution_count": 40,
   "metadata": {},
   "outputs": [
    {
     "data": {
      "text/plain": [
       "DataFrame[product_id: int, product_category_id: int, product_name: string, product_description: string, product_price: float, product_image: string]"
      ]
     },
     "execution_count": 40,
     "metadata": {},
     "output_type": "execute_result"
    }
   ],
   "source": [
    "categories.cache()\n",
    "departments.cache()\n",
    "order_items.cache()\n",
    "orders.cache()\n",
    "products.cache()"
   ]
  },
  {
   "cell_type": "code",
   "execution_count": 41,
   "metadata": {},
   "outputs": [
    {
     "name": "stdout",
     "output_type": "stream",
     "text": [
      "root\n",
      " |-- department_id: integer (nullable = true)\n",
      " |-- department_name: string (nullable = true)\n",
      "\n"
     ]
    }
   ],
   "source": [
    "departments.printSchema()"
   ]
  },
  {
   "cell_type": "code",
   "execution_count": 42,
   "metadata": {},
   "outputs": [
    {
     "name": "stdout",
     "output_type": "stream",
     "text": [
      "root\n",
      " |-- order_item_id: integer (nullable = true)\n",
      " |-- order_item_order_id: integer (nullable = true)\n",
      " |-- order_item_product_id: integer (nullable = true)\n",
      " |-- order_item_quantity: integer (nullable = true)\n",
      " |-- order_item_subtotal: float (nullable = true)\n",
      " |-- order_item_product_price: float (nullable = true)\n",
      "\n"
     ]
    }
   ],
   "source": [
    "order_items.printSchema()"
   ]
  },
  {
   "cell_type": "code",
   "execution_count": 43,
   "metadata": {},
   "outputs": [
    {
     "name": "stdout",
     "output_type": "stream",
     "text": [
      "root\n",
      " |-- order_id: integer (nullable = true)\n",
      " |-- order_date: long (nullable = true)\n",
      " |-- order_customer_id: integer (nullable = true)\n",
      " |-- order_status: string (nullable = true)\n",
      "\n"
     ]
    }
   ],
   "source": [
    "orders.printSchema()"
   ]
  },
  {
   "cell_type": "code",
   "execution_count": 44,
   "metadata": {},
   "outputs": [
    {
     "name": "stdout",
     "output_type": "stream",
     "text": [
      "root\n",
      " |-- product_id: integer (nullable = true)\n",
      " |-- product_category_id: integer (nullable = true)\n",
      " |-- product_name: string (nullable = true)\n",
      " |-- product_description: string (nullable = true)\n",
      " |-- product_price: float (nullable = true)\n",
      " |-- product_image: string (nullable = true)\n",
      "\n"
     ]
    }
   ],
   "source": [
    "products.printSchema()"
   ]
  },
  {
   "cell_type": "code",
   "execution_count": 45,
   "metadata": {},
   "outputs": [
    {
     "name": "stdout",
     "output_type": "stream",
     "text": [
      "+-------------------+\n",
      "|      category_name|\n",
      "+-------------------+\n",
      "|           Football|\n",
      "|             Soccer|\n",
      "|Baseball & Softball|\n",
      "|         Basketball|\n",
      "|           Lacrosse|\n",
      "|   Tennis & Racquet|\n",
      "|             Hockey|\n",
      "|        More Sports|\n",
      "|   Cardio Equipment|\n",
      "|  Strength Training|\n",
      "|Fitness Accessories|\n",
      "|       Boxing & MMA|\n",
      "|        Electronics|\n",
      "|     Yoga & Pilates|\n",
      "|  Training by Sport|\n",
      "|    As Seen on  TV!|\n",
      "|             Cleats|\n",
      "|     Men's Footwear|\n",
      "|   Women's Footwear|\n",
      "|     Kids' Footwear|\n",
      "+-------------------+\n",
      "only showing top 20 rows\n",
      "\n"
     ]
    }
   ],
   "source": [
    "categories.select(categories.category_name).show()"
   ]
  },
  {
   "cell_type": "code",
   "execution_count": 46,
   "metadata": {},
   "outputs": [
    {
     "data": {
      "text/plain": [
       "'-- najbardziej popularne kategorie produktów\\nselect c.category_name, count(order_item_quantity) as count\\nfrom order_items oi\\ninner join products p on oi.order_item_product_id = p.product_id\\ninner join categories c on c.category_id = p.product_category_id\\ngroup by c.category_name\\norder by count desc\\nlimit 10;\\n'"
      ]
     },
     "execution_count": 46,
     "metadata": {},
     "output_type": "execute_result"
    }
   ],
   "source": [
    "\"\"\"-- najbardziej popularne kategorie produktów\n",
    "select c.category_name, count(order_item_quantity) as count\n",
    "from order_items oi\n",
    "inner join products p on oi.order_item_product_id = p.product_id\n",
    "inner join categories c on c.category_id = p.product_category_id\n",
    "group by c.category_name\n",
    "order by count desc\n",
    "limit 10;\n",
    "\"\"\""
   ]
  },
  {
   "cell_type": "code",
   "execution_count": 50,
   "metadata": {},
   "outputs": [],
   "source": [
    "cats = categories.join(departments, categories.category_department_id == departments.department_id)"
   ]
  },
  {
   "cell_type": "code",
   "execution_count": 51,
   "metadata": {},
   "outputs": [
    {
     "name": "stdout",
     "output_type": "stream",
     "text": [
      "+-----------+----------------------+-------------------+-------------+---------------+\n",
      "|category_id|category_department_id|      category_name|department_id|department_name|\n",
      "+-----------+----------------------+-------------------+-------------+---------------+\n",
      "|          1|                     2|           Football|            2|        Fitness|\n",
      "|          1|                     2|           Football|            2|        Fitness|\n",
      "|          2|                     2|             Soccer|            2|        Fitness|\n",
      "|          2|                     2|             Soccer|            2|        Fitness|\n",
      "|          3|                     2|Baseball & Softball|            2|        Fitness|\n",
      "|          3|                     2|Baseball & Softball|            2|        Fitness|\n",
      "|          4|                     2|         Basketball|            2|        Fitness|\n",
      "|          4|                     2|         Basketball|            2|        Fitness|\n",
      "|          5|                     2|           Lacrosse|            2|        Fitness|\n",
      "|          5|                     2|           Lacrosse|            2|        Fitness|\n",
      "|          6|                     2|   Tennis & Racquet|            2|        Fitness|\n",
      "|          6|                     2|   Tennis & Racquet|            2|        Fitness|\n",
      "|          7|                     2|             Hockey|            2|        Fitness|\n",
      "|          7|                     2|             Hockey|            2|        Fitness|\n",
      "|          8|                     2|        More Sports|            2|        Fitness|\n",
      "|          8|                     2|        More Sports|            2|        Fitness|\n",
      "|          9|                     3|   Cardio Equipment|            3|       Footwear|\n",
      "|          9|                     3|   Cardio Equipment|            3|       Footwear|\n",
      "|         10|                     3|  Strength Training|            3|       Footwear|\n",
      "|         10|                     3|  Strength Training|            3|       Footwear|\n",
      "+-----------+----------------------+-------------------+-------------+---------------+\n",
      "only showing top 20 rows\n",
      "\n"
     ]
    }
   ],
   "source": [
    "cats.show()"
   ]
  },
  {
   "cell_type": "code",
   "execution_count": 52,
   "metadata": {},
   "outputs": [],
   "source": [
    "cats = cats.drop(categories.category_department_id)"
   ]
  },
  {
   "cell_type": "code",
   "execution_count": 53,
   "metadata": {},
   "outputs": [
    {
     "name": "stdout",
     "output_type": "stream",
     "text": [
      "+-----------+-------------------+-------------+---------------+\n",
      "|category_id|      category_name|department_id|department_name|\n",
      "+-----------+-------------------+-------------+---------------+\n",
      "|          1|           Football|            2|        Fitness|\n",
      "|          1|           Football|            2|        Fitness|\n",
      "|          2|             Soccer|            2|        Fitness|\n",
      "|          2|             Soccer|            2|        Fitness|\n",
      "|          3|Baseball & Softball|            2|        Fitness|\n",
      "|          3|Baseball & Softball|            2|        Fitness|\n",
      "|          4|         Basketball|            2|        Fitness|\n",
      "|          4|         Basketball|            2|        Fitness|\n",
      "|          5|           Lacrosse|            2|        Fitness|\n",
      "|          5|           Lacrosse|            2|        Fitness|\n",
      "|          6|   Tennis & Racquet|            2|        Fitness|\n",
      "|          6|   Tennis & Racquet|            2|        Fitness|\n",
      "|          7|             Hockey|            2|        Fitness|\n",
      "|          7|             Hockey|            2|        Fitness|\n",
      "|          8|        More Sports|            2|        Fitness|\n",
      "|          8|        More Sports|            2|        Fitness|\n",
      "|          9|   Cardio Equipment|            3|       Footwear|\n",
      "|          9|   Cardio Equipment|            3|       Footwear|\n",
      "|         10|  Strength Training|            3|       Footwear|\n",
      "|         10|  Strength Training|            3|       Footwear|\n",
      "+-----------+-------------------+-------------+---------------+\n",
      "only showing top 20 rows\n",
      "\n"
     ]
    }
   ],
   "source": [
    "cats.show()"
   ]
  },
  {
   "cell_type": "code",
   "execution_count": 55,
   "metadata": {},
   "outputs": [
    {
     "name": "stdout",
     "output_type": "stream",
     "text": [
      "+-----------+-------------------+-------------+---------------+\n",
      "|category_id|      category_name|department_id|department_name|\n",
      "+-----------+-------------------+-------------+---------------+\n",
      "|         40|        Accessories|            6|       Outdoors|\n",
      "|         40|        Accessories|            6|       Outdoors|\n",
      "|         22|        Accessories|            4|        Apparel|\n",
      "|         40|        Accessories|            6|       Outdoors|\n",
      "|         22|        Accessories|            4|        Apparel|\n",
      "|         27|        Accessories|            5|           Golf|\n",
      "|         27|        Accessories|            5|           Golf|\n",
      "|         27|        Accessories|            5|           Golf|\n",
      "|         22|        Accessories|            4|        Apparel|\n",
      "|         22|        Accessories|            4|        Apparel|\n",
      "|         27|        Accessories|            5|           Golf|\n",
      "|         40|        Accessories|            6|       Outdoors|\n",
      "|         16|    As Seen on  TV!|            3|       Footwear|\n",
      "|         16|    As Seen on  TV!|            3|       Footwear|\n",
      "|         16|    As Seen on  TV!|            3|       Footwear|\n",
      "|         16|    As Seen on  TV!|            3|       Footwear|\n",
      "|          3|Baseball & Softball|            2|        Fitness|\n",
      "|          3|Baseball & Softball|            2|        Fitness|\n",
      "|          3|Baseball & Softball|            2|        Fitness|\n",
      "|          3|Baseball & Softball|            2|        Fitness|\n",
      "+-----------+-------------------+-------------+---------------+\n",
      "only showing top 20 rows\n",
      "\n"
     ]
    }
   ],
   "source": [
    "cats.sort(cats.category_name).show()"
   ]
  },
  {
   "cell_type": "code",
   "execution_count": 56,
   "metadata": {},
   "outputs": [
    {
     "data": {
      "text/plain": [
       "[Row(category_id=27, category_name='Accessories', department_id=5, department_name='Golf'),\n",
       " Row(category_id=40, category_name='Accessories', department_id=6, department_name='Outdoors'),\n",
       " Row(category_id=22, category_name='Accessories', department_id=4, department_name='Apparel'),\n",
       " Row(category_id=40, category_name='Accessories', department_id=6, department_name='Outdoors'),\n",
       " Row(category_id=22, category_name='Accessories', department_id=4, department_name='Apparel'),\n",
       " Row(category_id=40, category_name='Accessories', department_id=6, department_name='Outdoors'),\n",
       " Row(category_id=27, category_name='Accessories', department_id=5, department_name='Golf'),\n",
       " Row(category_id=27, category_name='Accessories', department_id=5, department_name='Golf'),\n",
       " Row(category_id=22, category_name='Accessories', department_id=4, department_name='Apparel'),\n",
       " Row(category_id=27, category_name='Accessories', department_id=5, department_name='Golf')]"
      ]
     },
     "execution_count": 56,
     "metadata": {},
     "output_type": "execute_result"
    }
   ],
   "source": [
    "cats.sort(cats.category_name).take(10)"
   ]
  },
  {
   "cell_type": "code",
   "execution_count": 57,
   "metadata": {},
   "outputs": [
    {
     "data": {
      "text/plain": [
       "'-- najbardziej popularne kategorie produktów\\nselect c.category_name, count(order_item_quantity) as count\\nfrom order_items oi\\ninner join products p on oi.order_item_product_id = p.product_id\\ninner join categories c on c.category_id = p.product_category_id\\ngroup by c.category_name\\norder by count desc\\nlimit 10;\\n'"
      ]
     },
     "execution_count": 57,
     "metadata": {},
     "output_type": "execute_result"
    }
   ],
   "source": [
    "\"\"\"-- najbardziej popularne kategorie produktów\n",
    "select c.category_name, count(order_item_quantity) as count\n",
    "from order_items oi\n",
    "inner join products p on oi.order_item_product_id = p.product_id\n",
    "inner join categories c on c.category_id = p.product_category_id\n",
    "group by c.category_name\n",
    "order by count desc\n",
    "limit 10;\n",
    "\"\"\""
   ]
  },
  {
   "cell_type": "code",
   "execution_count": 58,
   "metadata": {},
   "outputs": [],
   "source": [
    "join1 = order_items.join(products, products.product_id == order_items.order_item_product_id)"
   ]
  },
  {
   "cell_type": "code",
   "execution_count": 59,
   "metadata": {},
   "outputs": [],
   "source": [
    "join2 = join1.join(categories, categories.category_id == join1.product_category_id)"
   ]
  },
  {
   "cell_type": "code",
   "execution_count": 63,
   "metadata": {},
   "outputs": [],
   "source": [
    "category_count = join2.groupBy(join2.category_name).count()"
   ]
  },
  {
   "cell_type": "code",
   "execution_count": 64,
   "metadata": {},
   "outputs": [
    {
     "name": "stdout",
     "output_type": "stream",
     "text": [
      "+-------------------+------+\n",
      "|      category_name| count|\n",
      "+-------------------+------+\n",
      "|   Men's Golf Clubs|  2264|\n",
      "|   Camping & Hiking|109832|\n",
      "|Fitness Accessories|  2472|\n",
      "|         Golf Shoes|  4192|\n",
      "|         Basketball|   536|\n",
      "|     Men's Footwear|177968|\n",
      "|        Electronics| 25248|\n",
      "|    Women's Apparel|168280|\n",
      "|     Girls' Apparel|  9608|\n",
      "|  Golf Bags & Carts|   488|\n",
      "|    As Seen on  TV!|   544|\n",
      "|       Boxing & MMA|  3384|\n",
      "|Baseball & Softball|  5056|\n",
      "| Hunting & Shooting|  3520|\n",
      "|       Golf Apparel|  3528|\n",
      "|           Trade-In|  7792|\n",
      "| Women's Golf Clubs|  1448|\n",
      "|      Shop By Sport| 87872|\n",
      "|            Fishing|138600|\n",
      "|       Water Sports|124320|\n",
      "+-------------------+------+\n",
      "only showing top 20 rows\n",
      "\n"
     ]
    }
   ],
   "source": [
    "category_count.show()"
   ]
  },
  {
   "cell_type": "code",
   "execution_count": 65,
   "metadata": {},
   "outputs": [
    {
     "data": {
      "text/html": [
       "<div>\n",
       "<style scoped>\n",
       "    .dataframe tbody tr th:only-of-type {\n",
       "        vertical-align: middle;\n",
       "    }\n",
       "\n",
       "    .dataframe tbody tr th {\n",
       "        vertical-align: top;\n",
       "    }\n",
       "\n",
       "    .dataframe thead th {\n",
       "        text-align: right;\n",
       "    }\n",
       "</style>\n",
       "<table border=\"1\" class=\"dataframe\">\n",
       "  <thead>\n",
       "    <tr style=\"text-align: right;\">\n",
       "      <th></th>\n",
       "      <th>category_name</th>\n",
       "      <th>count</th>\n",
       "    </tr>\n",
       "  </thead>\n",
       "  <tbody>\n",
       "    <tr>\n",
       "      <th>0</th>\n",
       "      <td>Accessories</td>\n",
       "      <td>14240</td>\n",
       "    </tr>\n",
       "    <tr>\n",
       "      <th>1</th>\n",
       "      <td>As Seen on  TV!</td>\n",
       "      <td>544</td>\n",
       "    </tr>\n",
       "    <tr>\n",
       "      <th>2</th>\n",
       "      <td>Baseball &amp; Softball</td>\n",
       "      <td>5056</td>\n",
       "    </tr>\n",
       "    <tr>\n",
       "      <th>3</th>\n",
       "      <td>Basketball</td>\n",
       "      <td>536</td>\n",
       "    </tr>\n",
       "    <tr>\n",
       "      <th>4</th>\n",
       "      <td>Boxing &amp; MMA</td>\n",
       "      <td>3384</td>\n",
       "    </tr>\n",
       "    <tr>\n",
       "      <th>5</th>\n",
       "      <td>Camping &amp; Hiking</td>\n",
       "      <td>109832</td>\n",
       "    </tr>\n",
       "    <tr>\n",
       "      <th>6</th>\n",
       "      <td>Cardio Equipment</td>\n",
       "      <td>99896</td>\n",
       "    </tr>\n",
       "    <tr>\n",
       "      <th>7</th>\n",
       "      <td>Cleats</td>\n",
       "      <td>196408</td>\n",
       "    </tr>\n",
       "    <tr>\n",
       "      <th>8</th>\n",
       "      <td>Electronics</td>\n",
       "      <td>25248</td>\n",
       "    </tr>\n",
       "    <tr>\n",
       "      <th>9</th>\n",
       "      <td>Fishing</td>\n",
       "      <td>138600</td>\n",
       "    </tr>\n",
       "    <tr>\n",
       "      <th>10</th>\n",
       "      <td>Fitness Accessories</td>\n",
       "      <td>2472</td>\n",
       "    </tr>\n",
       "    <tr>\n",
       "      <th>11</th>\n",
       "      <td>Girls' Apparel</td>\n",
       "      <td>9608</td>\n",
       "    </tr>\n",
       "    <tr>\n",
       "      <th>12</th>\n",
       "      <td>Golf Apparel</td>\n",
       "      <td>3528</td>\n",
       "    </tr>\n",
       "    <tr>\n",
       "      <th>13</th>\n",
       "      <td>Golf Bags &amp; Carts</td>\n",
       "      <td>488</td>\n",
       "    </tr>\n",
       "    <tr>\n",
       "      <th>14</th>\n",
       "      <td>Golf Balls</td>\n",
       "      <td>11800</td>\n",
       "    </tr>\n",
       "    <tr>\n",
       "      <th>15</th>\n",
       "      <td>Golf Gloves</td>\n",
       "      <td>8560</td>\n",
       "    </tr>\n",
       "    <tr>\n",
       "      <th>16</th>\n",
       "      <td>Golf Shoes</td>\n",
       "      <td>4192</td>\n",
       "    </tr>\n",
       "    <tr>\n",
       "      <th>17</th>\n",
       "      <td>Hockey</td>\n",
       "      <td>4912</td>\n",
       "    </tr>\n",
       "    <tr>\n",
       "      <th>18</th>\n",
       "      <td>Hunting &amp; Shooting</td>\n",
       "      <td>3520</td>\n",
       "    </tr>\n",
       "    <tr>\n",
       "      <th>19</th>\n",
       "      <td>Indoor/Outdoor Games</td>\n",
       "      <td>154384</td>\n",
       "    </tr>\n",
       "    <tr>\n",
       "      <th>20</th>\n",
       "      <td>Kids' Golf Clubs</td>\n",
       "      <td>3072</td>\n",
       "    </tr>\n",
       "    <tr>\n",
       "      <th>21</th>\n",
       "      <td>Lacrosse</td>\n",
       "      <td>2744</td>\n",
       "    </tr>\n",
       "    <tr>\n",
       "      <th>22</th>\n",
       "      <td>Men's Footwear</td>\n",
       "      <td>177968</td>\n",
       "    </tr>\n",
       "    <tr>\n",
       "      <th>23</th>\n",
       "      <td>Men's Golf Clubs</td>\n",
       "      <td>2264</td>\n",
       "    </tr>\n",
       "    <tr>\n",
       "      <th>24</th>\n",
       "      <td>Shop By Sport</td>\n",
       "      <td>87872</td>\n",
       "    </tr>\n",
       "    <tr>\n",
       "      <th>25</th>\n",
       "      <td>Soccer</td>\n",
       "      <td>1104</td>\n",
       "    </tr>\n",
       "    <tr>\n",
       "      <th>26</th>\n",
       "      <td>Strength Training</td>\n",
       "      <td>888</td>\n",
       "    </tr>\n",
       "    <tr>\n",
       "      <th>27</th>\n",
       "      <td>Tennis &amp; Racquet</td>\n",
       "      <td>2624</td>\n",
       "    </tr>\n",
       "    <tr>\n",
       "      <th>28</th>\n",
       "      <td>Trade-In</td>\n",
       "      <td>7792</td>\n",
       "    </tr>\n",
       "    <tr>\n",
       "      <th>29</th>\n",
       "      <td>Water Sports</td>\n",
       "      <td>124320</td>\n",
       "    </tr>\n",
       "    <tr>\n",
       "      <th>30</th>\n",
       "      <td>Women's Apparel</td>\n",
       "      <td>168280</td>\n",
       "    </tr>\n",
       "    <tr>\n",
       "      <th>31</th>\n",
       "      <td>Women's Golf Clubs</td>\n",
       "      <td>1448</td>\n",
       "    </tr>\n",
       "  </tbody>\n",
       "</table>\n",
       "</div>"
      ],
      "text/plain": [
       "           category_name   count\n",
       "0            Accessories   14240\n",
       "1        As Seen on  TV!     544\n",
       "2    Baseball & Softball    5056\n",
       "3             Basketball     536\n",
       "4           Boxing & MMA    3384\n",
       "5       Camping & Hiking  109832\n",
       "6       Cardio Equipment   99896\n",
       "7                 Cleats  196408\n",
       "8            Electronics   25248\n",
       "9                Fishing  138600\n",
       "10   Fitness Accessories    2472\n",
       "11        Girls' Apparel    9608\n",
       "12          Golf Apparel    3528\n",
       "13     Golf Bags & Carts     488\n",
       "14            Golf Balls   11800\n",
       "15           Golf Gloves    8560\n",
       "16            Golf Shoes    4192\n",
       "17                Hockey    4912\n",
       "18    Hunting & Shooting    3520\n",
       "19  Indoor/Outdoor Games  154384\n",
       "20      Kids' Golf Clubs    3072\n",
       "21              Lacrosse    2744\n",
       "22        Men's Footwear  177968\n",
       "23      Men's Golf Clubs    2264\n",
       "24         Shop By Sport   87872\n",
       "25                Soccer    1104\n",
       "26     Strength Training     888\n",
       "27      Tennis & Racquet    2624\n",
       "28              Trade-In    7792\n",
       "29          Water Sports  124320\n",
       "30       Women's Apparel  168280\n",
       "31    Women's Golf Clubs    1448"
      ]
     },
     "execution_count": 65,
     "metadata": {},
     "output_type": "execute_result"
    }
   ],
   "source": [
    "category_count.sort(\"category_name\").toPandas()"
   ]
  },
  {
   "cell_type": "code",
   "execution_count": 66,
   "metadata": {},
   "outputs": [
    {
     "data": {
      "text/html": [
       "<div>\n",
       "<style scoped>\n",
       "    .dataframe tbody tr th:only-of-type {\n",
       "        vertical-align: middle;\n",
       "    }\n",
       "\n",
       "    .dataframe tbody tr th {\n",
       "        vertical-align: top;\n",
       "    }\n",
       "\n",
       "    .dataframe thead th {\n",
       "        text-align: right;\n",
       "    }\n",
       "</style>\n",
       "<table border=\"1\" class=\"dataframe\">\n",
       "  <thead>\n",
       "    <tr style=\"text-align: right;\">\n",
       "      <th></th>\n",
       "      <th>category_name</th>\n",
       "      <th>count</th>\n",
       "    </tr>\n",
       "  </thead>\n",
       "  <tbody>\n",
       "    <tr>\n",
       "      <th>0</th>\n",
       "      <td>Women's Golf Clubs</td>\n",
       "      <td>1448</td>\n",
       "    </tr>\n",
       "    <tr>\n",
       "      <th>1</th>\n",
       "      <td>Women's Apparel</td>\n",
       "      <td>168280</td>\n",
       "    </tr>\n",
       "    <tr>\n",
       "      <th>2</th>\n",
       "      <td>Water Sports</td>\n",
       "      <td>124320</td>\n",
       "    </tr>\n",
       "    <tr>\n",
       "      <th>3</th>\n",
       "      <td>Trade-In</td>\n",
       "      <td>7792</td>\n",
       "    </tr>\n",
       "    <tr>\n",
       "      <th>4</th>\n",
       "      <td>Tennis &amp; Racquet</td>\n",
       "      <td>2624</td>\n",
       "    </tr>\n",
       "    <tr>\n",
       "      <th>5</th>\n",
       "      <td>Strength Training</td>\n",
       "      <td>888</td>\n",
       "    </tr>\n",
       "    <tr>\n",
       "      <th>6</th>\n",
       "      <td>Soccer</td>\n",
       "      <td>1104</td>\n",
       "    </tr>\n",
       "    <tr>\n",
       "      <th>7</th>\n",
       "      <td>Shop By Sport</td>\n",
       "      <td>87872</td>\n",
       "    </tr>\n",
       "    <tr>\n",
       "      <th>8</th>\n",
       "      <td>Men's Golf Clubs</td>\n",
       "      <td>2264</td>\n",
       "    </tr>\n",
       "    <tr>\n",
       "      <th>9</th>\n",
       "      <td>Men's Footwear</td>\n",
       "      <td>177968</td>\n",
       "    </tr>\n",
       "    <tr>\n",
       "      <th>10</th>\n",
       "      <td>Lacrosse</td>\n",
       "      <td>2744</td>\n",
       "    </tr>\n",
       "    <tr>\n",
       "      <th>11</th>\n",
       "      <td>Kids' Golf Clubs</td>\n",
       "      <td>3072</td>\n",
       "    </tr>\n",
       "    <tr>\n",
       "      <th>12</th>\n",
       "      <td>Indoor/Outdoor Games</td>\n",
       "      <td>154384</td>\n",
       "    </tr>\n",
       "    <tr>\n",
       "      <th>13</th>\n",
       "      <td>Hunting &amp; Shooting</td>\n",
       "      <td>3520</td>\n",
       "    </tr>\n",
       "    <tr>\n",
       "      <th>14</th>\n",
       "      <td>Hockey</td>\n",
       "      <td>4912</td>\n",
       "    </tr>\n",
       "    <tr>\n",
       "      <th>15</th>\n",
       "      <td>Golf Shoes</td>\n",
       "      <td>4192</td>\n",
       "    </tr>\n",
       "    <tr>\n",
       "      <th>16</th>\n",
       "      <td>Golf Gloves</td>\n",
       "      <td>8560</td>\n",
       "    </tr>\n",
       "    <tr>\n",
       "      <th>17</th>\n",
       "      <td>Golf Balls</td>\n",
       "      <td>11800</td>\n",
       "    </tr>\n",
       "    <tr>\n",
       "      <th>18</th>\n",
       "      <td>Golf Bags &amp; Carts</td>\n",
       "      <td>488</td>\n",
       "    </tr>\n",
       "    <tr>\n",
       "      <th>19</th>\n",
       "      <td>Golf Apparel</td>\n",
       "      <td>3528</td>\n",
       "    </tr>\n",
       "    <tr>\n",
       "      <th>20</th>\n",
       "      <td>Girls' Apparel</td>\n",
       "      <td>9608</td>\n",
       "    </tr>\n",
       "    <tr>\n",
       "      <th>21</th>\n",
       "      <td>Fitness Accessories</td>\n",
       "      <td>2472</td>\n",
       "    </tr>\n",
       "    <tr>\n",
       "      <th>22</th>\n",
       "      <td>Fishing</td>\n",
       "      <td>138600</td>\n",
       "    </tr>\n",
       "    <tr>\n",
       "      <th>23</th>\n",
       "      <td>Electronics</td>\n",
       "      <td>25248</td>\n",
       "    </tr>\n",
       "    <tr>\n",
       "      <th>24</th>\n",
       "      <td>Cleats</td>\n",
       "      <td>196408</td>\n",
       "    </tr>\n",
       "    <tr>\n",
       "      <th>25</th>\n",
       "      <td>Cardio Equipment</td>\n",
       "      <td>99896</td>\n",
       "    </tr>\n",
       "    <tr>\n",
       "      <th>26</th>\n",
       "      <td>Camping &amp; Hiking</td>\n",
       "      <td>109832</td>\n",
       "    </tr>\n",
       "    <tr>\n",
       "      <th>27</th>\n",
       "      <td>Boxing &amp; MMA</td>\n",
       "      <td>3384</td>\n",
       "    </tr>\n",
       "    <tr>\n",
       "      <th>28</th>\n",
       "      <td>Basketball</td>\n",
       "      <td>536</td>\n",
       "    </tr>\n",
       "    <tr>\n",
       "      <th>29</th>\n",
       "      <td>Baseball &amp; Softball</td>\n",
       "      <td>5056</td>\n",
       "    </tr>\n",
       "    <tr>\n",
       "      <th>30</th>\n",
       "      <td>As Seen on  TV!</td>\n",
       "      <td>544</td>\n",
       "    </tr>\n",
       "    <tr>\n",
       "      <th>31</th>\n",
       "      <td>Accessories</td>\n",
       "      <td>14240</td>\n",
       "    </tr>\n",
       "  </tbody>\n",
       "</table>\n",
       "</div>"
      ],
      "text/plain": [
       "           category_name   count\n",
       "0     Women's Golf Clubs    1448\n",
       "1        Women's Apparel  168280\n",
       "2           Water Sports  124320\n",
       "3               Trade-In    7792\n",
       "4       Tennis & Racquet    2624\n",
       "5      Strength Training     888\n",
       "6                 Soccer    1104\n",
       "7          Shop By Sport   87872\n",
       "8       Men's Golf Clubs    2264\n",
       "9         Men's Footwear  177968\n",
       "10              Lacrosse    2744\n",
       "11      Kids' Golf Clubs    3072\n",
       "12  Indoor/Outdoor Games  154384\n",
       "13    Hunting & Shooting    3520\n",
       "14                Hockey    4912\n",
       "15            Golf Shoes    4192\n",
       "16           Golf Gloves    8560\n",
       "17            Golf Balls   11800\n",
       "18     Golf Bags & Carts     488\n",
       "19          Golf Apparel    3528\n",
       "20        Girls' Apparel    9608\n",
       "21   Fitness Accessories    2472\n",
       "22               Fishing  138600\n",
       "23           Electronics   25248\n",
       "24                Cleats  196408\n",
       "25      Cardio Equipment   99896\n",
       "26      Camping & Hiking  109832\n",
       "27          Boxing & MMA    3384\n",
       "28            Basketball     536\n",
       "29   Baseball & Softball    5056\n",
       "30       As Seen on  TV!     544\n",
       "31           Accessories   14240"
      ]
     },
     "execution_count": 66,
     "metadata": {},
     "output_type": "execute_result"
    }
   ],
   "source": [
    "category_count.sort(F.desc(\"category_name\")).toPandas()"
   ]
  },
  {
   "cell_type": "code",
   "execution_count": 67,
   "metadata": {},
   "outputs": [
    {
     "data": {
      "text/html": [
       "<div>\n",
       "<style scoped>\n",
       "    .dataframe tbody tr th:only-of-type {\n",
       "        vertical-align: middle;\n",
       "    }\n",
       "\n",
       "    .dataframe tbody tr th {\n",
       "        vertical-align: top;\n",
       "    }\n",
       "\n",
       "    .dataframe thead th {\n",
       "        text-align: right;\n",
       "    }\n",
       "</style>\n",
       "<table border=\"1\" class=\"dataframe\">\n",
       "  <thead>\n",
       "    <tr style=\"text-align: right;\">\n",
       "      <th></th>\n",
       "      <th>category_name</th>\n",
       "      <th>count</th>\n",
       "    </tr>\n",
       "  </thead>\n",
       "  <tbody>\n",
       "    <tr>\n",
       "      <th>0</th>\n",
       "      <td>Cleats</td>\n",
       "      <td>196408</td>\n",
       "    </tr>\n",
       "    <tr>\n",
       "      <th>1</th>\n",
       "      <td>Men's Footwear</td>\n",
       "      <td>177968</td>\n",
       "    </tr>\n",
       "    <tr>\n",
       "      <th>2</th>\n",
       "      <td>Women's Apparel</td>\n",
       "      <td>168280</td>\n",
       "    </tr>\n",
       "    <tr>\n",
       "      <th>3</th>\n",
       "      <td>Indoor/Outdoor Games</td>\n",
       "      <td>154384</td>\n",
       "    </tr>\n",
       "    <tr>\n",
       "      <th>4</th>\n",
       "      <td>Fishing</td>\n",
       "      <td>138600</td>\n",
       "    </tr>\n",
       "    <tr>\n",
       "      <th>5</th>\n",
       "      <td>Water Sports</td>\n",
       "      <td>124320</td>\n",
       "    </tr>\n",
       "    <tr>\n",
       "      <th>6</th>\n",
       "      <td>Camping &amp; Hiking</td>\n",
       "      <td>109832</td>\n",
       "    </tr>\n",
       "    <tr>\n",
       "      <th>7</th>\n",
       "      <td>Cardio Equipment</td>\n",
       "      <td>99896</td>\n",
       "    </tr>\n",
       "    <tr>\n",
       "      <th>8</th>\n",
       "      <td>Shop By Sport</td>\n",
       "      <td>87872</td>\n",
       "    </tr>\n",
       "    <tr>\n",
       "      <th>9</th>\n",
       "      <td>Electronics</td>\n",
       "      <td>25248</td>\n",
       "    </tr>\n",
       "    <tr>\n",
       "      <th>10</th>\n",
       "      <td>Accessories</td>\n",
       "      <td>14240</td>\n",
       "    </tr>\n",
       "    <tr>\n",
       "      <th>11</th>\n",
       "      <td>Golf Balls</td>\n",
       "      <td>11800</td>\n",
       "    </tr>\n",
       "    <tr>\n",
       "      <th>12</th>\n",
       "      <td>Girls' Apparel</td>\n",
       "      <td>9608</td>\n",
       "    </tr>\n",
       "    <tr>\n",
       "      <th>13</th>\n",
       "      <td>Golf Gloves</td>\n",
       "      <td>8560</td>\n",
       "    </tr>\n",
       "    <tr>\n",
       "      <th>14</th>\n",
       "      <td>Trade-In</td>\n",
       "      <td>7792</td>\n",
       "    </tr>\n",
       "    <tr>\n",
       "      <th>15</th>\n",
       "      <td>Baseball &amp; Softball</td>\n",
       "      <td>5056</td>\n",
       "    </tr>\n",
       "    <tr>\n",
       "      <th>16</th>\n",
       "      <td>Hockey</td>\n",
       "      <td>4912</td>\n",
       "    </tr>\n",
       "    <tr>\n",
       "      <th>17</th>\n",
       "      <td>Golf Shoes</td>\n",
       "      <td>4192</td>\n",
       "    </tr>\n",
       "    <tr>\n",
       "      <th>18</th>\n",
       "      <td>Golf Apparel</td>\n",
       "      <td>3528</td>\n",
       "    </tr>\n",
       "    <tr>\n",
       "      <th>19</th>\n",
       "      <td>Hunting &amp; Shooting</td>\n",
       "      <td>3520</td>\n",
       "    </tr>\n",
       "    <tr>\n",
       "      <th>20</th>\n",
       "      <td>Boxing &amp; MMA</td>\n",
       "      <td>3384</td>\n",
       "    </tr>\n",
       "    <tr>\n",
       "      <th>21</th>\n",
       "      <td>Kids' Golf Clubs</td>\n",
       "      <td>3072</td>\n",
       "    </tr>\n",
       "    <tr>\n",
       "      <th>22</th>\n",
       "      <td>Lacrosse</td>\n",
       "      <td>2744</td>\n",
       "    </tr>\n",
       "    <tr>\n",
       "      <th>23</th>\n",
       "      <td>Tennis &amp; Racquet</td>\n",
       "      <td>2624</td>\n",
       "    </tr>\n",
       "    <tr>\n",
       "      <th>24</th>\n",
       "      <td>Fitness Accessories</td>\n",
       "      <td>2472</td>\n",
       "    </tr>\n",
       "    <tr>\n",
       "      <th>25</th>\n",
       "      <td>Men's Golf Clubs</td>\n",
       "      <td>2264</td>\n",
       "    </tr>\n",
       "    <tr>\n",
       "      <th>26</th>\n",
       "      <td>Women's Golf Clubs</td>\n",
       "      <td>1448</td>\n",
       "    </tr>\n",
       "    <tr>\n",
       "      <th>27</th>\n",
       "      <td>Soccer</td>\n",
       "      <td>1104</td>\n",
       "    </tr>\n",
       "    <tr>\n",
       "      <th>28</th>\n",
       "      <td>Strength Training</td>\n",
       "      <td>888</td>\n",
       "    </tr>\n",
       "    <tr>\n",
       "      <th>29</th>\n",
       "      <td>As Seen on  TV!</td>\n",
       "      <td>544</td>\n",
       "    </tr>\n",
       "    <tr>\n",
       "      <th>30</th>\n",
       "      <td>Basketball</td>\n",
       "      <td>536</td>\n",
       "    </tr>\n",
       "    <tr>\n",
       "      <th>31</th>\n",
       "      <td>Golf Bags &amp; Carts</td>\n",
       "      <td>488</td>\n",
       "    </tr>\n",
       "  </tbody>\n",
       "</table>\n",
       "</div>"
      ],
      "text/plain": [
       "           category_name   count\n",
       "0                 Cleats  196408\n",
       "1         Men's Footwear  177968\n",
       "2        Women's Apparel  168280\n",
       "3   Indoor/Outdoor Games  154384\n",
       "4                Fishing  138600\n",
       "5           Water Sports  124320\n",
       "6       Camping & Hiking  109832\n",
       "7       Cardio Equipment   99896\n",
       "8          Shop By Sport   87872\n",
       "9            Electronics   25248\n",
       "10           Accessories   14240\n",
       "11            Golf Balls   11800\n",
       "12        Girls' Apparel    9608\n",
       "13           Golf Gloves    8560\n",
       "14              Trade-In    7792\n",
       "15   Baseball & Softball    5056\n",
       "16                Hockey    4912\n",
       "17            Golf Shoes    4192\n",
       "18          Golf Apparel    3528\n",
       "19    Hunting & Shooting    3520\n",
       "20          Boxing & MMA    3384\n",
       "21      Kids' Golf Clubs    3072\n",
       "22              Lacrosse    2744\n",
       "23      Tennis & Racquet    2624\n",
       "24   Fitness Accessories    2472\n",
       "25      Men's Golf Clubs    2264\n",
       "26    Women's Golf Clubs    1448\n",
       "27                Soccer    1104\n",
       "28     Strength Training     888\n",
       "29       As Seen on  TV!     544\n",
       "30            Basketball     536\n",
       "31     Golf Bags & Carts     488"
      ]
     },
     "execution_count": 67,
     "metadata": {},
     "output_type": "execute_result"
    }
   ],
   "source": [
    "category_count.sort(F.desc(\"count\")).toPandas()"
   ]
  },
  {
   "cell_type": "code",
   "execution_count": 71,
   "metadata": {},
   "outputs": [],
   "source": [
    "categories.createOrReplaceTempView(\"categories\")\n",
    "departments.createOrReplaceTempView(\"departments\")\n",
    "order_items.createOrReplaceTempView(\"order_items\")\n",
    "products.createOrReplaceTempView(\"products\")"
   ]
  },
  {
   "cell_type": "code",
   "execution_count": 75,
   "metadata": {},
   "outputs": [
    {
     "name": "stdout",
     "output_type": "stream",
     "text": [
      "+--------------------+------+\n",
      "|       category_name| count|\n",
      "+--------------------+------+\n",
      "|              Cleats|196408|\n",
      "|      Men's Footwear|177968|\n",
      "|     Women's Apparel|168280|\n",
      "|Indoor/Outdoor Games|154384|\n",
      "|             Fishing|138600|\n",
      "|        Water Sports|124320|\n",
      "|    Camping & Hiking|109832|\n",
      "|    Cardio Equipment| 99896|\n",
      "|       Shop By Sport| 87872|\n",
      "|         Electronics| 25248|\n",
      "|         Accessories| 14240|\n",
      "|          Golf Balls| 11800|\n",
      "|      Girls' Apparel|  9608|\n",
      "|         Golf Gloves|  8560|\n",
      "|            Trade-In|  7792|\n",
      "| Baseball & Softball|  5056|\n",
      "|              Hockey|  4912|\n",
      "|          Golf Shoes|  4192|\n",
      "|        Golf Apparel|  3528|\n",
      "|  Hunting & Shooting|  3520|\n",
      "+--------------------+------+\n",
      "only showing top 20 rows\n",
      "\n"
     ]
    }
   ],
   "source": [
    "spark.sql(\"\"\"\n",
    "select c.category_name, count(order_item_quantity) as count\n",
    "from order_items oi\n",
    "inner join products p on oi.order_item_product_id = p.product_id\n",
    "inner join categories c on c.category_id = p.product_category_id\n",
    "group by c.category_name\n",
    "order by count desc\n",
    "\"\"\").show()"
   ]
  },
  {
   "cell_type": "code",
   "execution_count": null,
   "metadata": {},
   "outputs": [],
   "source": []
  },
  {
   "cell_type": "code",
   "execution_count": null,
   "metadata": {},
   "outputs": [],
   "source": []
  }
 ],
 "metadata": {
  "kernelspec": {
   "display_name": "Python 3",
   "language": "python",
   "name": "python3"
  },
  "language_info": {
   "codemirror_mode": {
    "name": "ipython",
    "version": 3
   },
   "file_extension": ".py",
   "mimetype": "text/x-python",
   "name": "python",
   "nbconvert_exporter": "python",
   "pygments_lexer": "ipython3",
   "version": "3.8.5"
  }
 },
 "nbformat": 4,
 "nbformat_minor": 4
}
